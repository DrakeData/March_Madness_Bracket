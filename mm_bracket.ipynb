{
  "nbformat": 4,
  "nbformat_minor": 0,
  "metadata": {
    "colab": {
      "name": "mm_bracket.ipynb",
      "provenance": [],
      "authorship_tag": "ABX9TyPl4q3Q8p8gewpca35pH3ht",
      "include_colab_link": true
    },
    "kernelspec": {
      "name": "python3",
      "display_name": "Python 3"
    },
    "language_info": {
      "name": "python"
    }
  },
  "cells": [
    {
      "cell_type": "markdown",
      "metadata": {
        "id": "view-in-github",
        "colab_type": "text"
      },
      "source": [
        "<a href=\"https://colab.research.google.com/github/DrakeData/March_Madness_Bracket/blob/main/mm_bracket.ipynb\" target=\"_parent\"><img src=\"https://colab.research.google.com/assets/colab-badge.svg\" alt=\"Open In Colab\"/></a>"
      ]
    },
    {
      "cell_type": "code",
      "execution_count": 1,
      "metadata": {
        "id": "OEuiY2vDzi-6"
      },
      "outputs": [],
      "source": [
        "import requests\n",
        "from bs4 import BeautifulSoup\n",
        "import datetime\n",
        "from datetime import datetime, timedelta, date\n",
        "from dateutil.parser import parse\n",
        "import pandas as pd\n",
        "from IPython.display import clear_output"
      ]
    },
    {
      "cell_type": "markdown",
      "source": [
        "## Webscrape Data"
      ],
      "metadata": {
        "id": "SHICBPgH0eJf"
      }
    },
    {
      "cell_type": "code",
      "source": [
        "main_url = 'https://www.ncaa.com/stats/basketball-men/d1/current/team/859'\n",
        "page = requests.get(main_url)\n",
        "soup = BeautifulSoup(page.content, 'html.parser')\n",
        "\n",
        "print(soup.prettify())\n",
        "\n",
        "clear_output()"
      ],
      "metadata": {
        "id": "FOJR2zi20dCo"
      },
      "execution_count": 2,
      "outputs": []
    },
    {
      "cell_type": "code",
      "source": [
        "cal_data = soup.find('tbody')\n",
        "print(cal_data.prettify())\n",
        "\n",
        "clear_output()"
      ],
      "metadata": {
        "id": "vXy_G1xV0xs5"
      },
      "execution_count": 3,
      "outputs": []
    },
    {
      "cell_type": "code",
      "source": [
        "date_data = cal_data.find_all('tr')\n",
        "date_data\n",
        "\n",
        "clear_output()"
      ],
      "metadata": {
        "id": "DzxJuNif1fra"
      },
      "execution_count": 4,
      "outputs": []
    },
    {
      "cell_type": "code",
      "source": [
        "date_data[0].find_all('td')"
      ],
      "metadata": {
        "colab": {
          "base_uri": "https://localhost:8080/"
        },
        "id": "cCS_dzKN1sIw",
        "outputId": "4b7e0e1c-371a-44c6-d815-70f51a365797"
      },
      "execution_count": 5,
      "outputs": [
        {
          "output_type": "execute_result",
          "data": {
            "text/plain": [
              "[<td>1</td>,\n",
              " <td><img src=\"https://i.turner.ncaa.com/sites/default/files/images/logos/schools/bgl/gonzaga.svg\"/><a class=\"school\" href=\"/schools/gonzaga\">Gonzaga</a></td>,\n",
              " <td>29</td>,\n",
              " <td>930</td>,\n",
              " <td>32.07</td>]"
            ]
          },
          "metadata": {},
          "execution_count": 5
        }
      ]
    },
    {
      "cell_type": "code",
      "source": [
        "date_data[1]"
      ],
      "metadata": {
        "colab": {
          "base_uri": "https://localhost:8080/"
        },
        "id": "ApbuGeEz5scX",
        "outputId": "b10febd7-9db9-44d5-dc0c-21f02740921e"
      },
      "execution_count": 6,
      "outputs": [
        {
          "output_type": "execute_result",
          "data": {
            "text/plain": [
              "<tr>\n",
              "<td>2</td>\n",
              "<td><img src=\"https://i.turner.ncaa.com/sites/default/files/images/logos/schools/bgl/arizona.svg\"/><a class=\"school\" href=\"/schools/arizona\">Arizona</a></td>\n",
              "<td>34</td>\n",
              "<td>1017</td>\n",
              "<td>29.91</td>\n",
              "</tr>"
            ]
          },
          "metadata": {},
          "execution_count": 6
        }
      ]
    },
    {
      "cell_type": "code",
      "source": [
        "test = date_data[0].find_all('td')\n",
        "test"
      ],
      "metadata": {
        "colab": {
          "base_uri": "https://localhost:8080/"
        },
        "id": "vr1wZsHT2xyJ",
        "outputId": "be456a11-3d00-4f8d-cdce-e9e7bc2d3674"
      },
      "execution_count": 7,
      "outputs": [
        {
          "output_type": "execute_result",
          "data": {
            "text/plain": [
              "[<td>1</td>,\n",
              " <td><img src=\"https://i.turner.ncaa.com/sites/default/files/images/logos/schools/bgl/gonzaga.svg\"/><a class=\"school\" href=\"/schools/gonzaga\">Gonzaga</a></td>,\n",
              " <td>29</td>,\n",
              " <td>930</td>,\n",
              " <td>32.07</td>]"
            ]
          },
          "metadata": {},
          "execution_count": 7
        }
      ]
    },
    {
      "cell_type": "markdown",
      "source": [
        "### loop through [NCAA website](https://www.ncaa.com/stats/basketball-men/d1/current/team/859)"
      ],
      "metadata": {
        "id": "glGJV1bL6Sa5"
      }
    },
    {
      "cell_type": "code",
      "source": [
        "url_ls = ['https://www.ncaa.com/stats/basketball-men/d1/current/team/859',\n",
        "          'https://www.ncaa.com/stats/basketball-men/d1/current/team/859/p2',\n",
        "          'https://www.ncaa.com/stats/basketball-men/d1/current/team/859/p3',\n",
        "          'https://www.ncaa.com/stats/basketball-men/d1/current/team/859/p4',\n",
        "          'https://www.ncaa.com/stats/basketball-men/d1/current/team/859/p5',\n",
        "          'https://www.ncaa.com/stats/basketball-men/d1/current/team/859/p6',\n",
        "          'https://www.ncaa.com/stats/basketball-men/d1/current/team/859/p7']"
      ],
      "metadata": {
        "id": "rYxygb436T-y"
      },
      "execution_count": 8,
      "outputs": []
    },
    {
      "cell_type": "code",
      "source": [
        "rank_ls = []\n",
        "team_name_ls = []\n",
        "dearbs_ls = []\n",
        "rpg_ls = []\n",
        "\n",
        "\n",
        "for url in url_ls:\n",
        "  main_url = url\n",
        "  page = requests.get(main_url)\n",
        "  soup = BeautifulSoup(page.content, 'html.parser')\n",
        "\n",
        "  cal_data = soup.find('tbody')\n",
        "  date_data = cal_data.find_all('tr')\n",
        "\n",
        "  for raw_data in date_data:\n",
        "    main = raw_data.find_all('td')\n",
        "\n",
        "    rank = main[0].text\n",
        "    team_name = main[1].text\n",
        "    dearbs = main[2].text\n",
        "    rpg = main[3].text\n",
        "\n",
        "    rank_ls.append(rank)\n",
        "    team_name_ls.append(team_name)\n",
        "    dearbs_ls.append(dearbs)\n",
        "    rpg_ls.append(rpg)"
      ],
      "metadata": {
        "id": "GZC0MP3n2-bj"
      },
      "execution_count": 9,
      "outputs": []
    },
    {
      "cell_type": "code",
      "source": [
        "main_df = pd.DataFrame({'rank': rank_ls,\n",
        "                        'school_name': team_name_ls,\n",
        "                        'drebs': dearbs_ls,\n",
        "                        'rpg': rpg_ls})\n",
        "\n",
        "main_df.head()"
      ],
      "metadata": {
        "colab": {
          "base_uri": "https://localhost:8080/",
          "height": 206
        },
        "id": "Za4gQ3CJ7ym_",
        "outputId": "42e45c2b-d9a5-486b-93f8-2dad9e0aae6e"
      },
      "execution_count": 10,
      "outputs": [
        {
          "output_type": "execute_result",
          "data": {
            "text/plain": [
              "  rank   school_name drebs   rpg\n",
              "0    1       Gonzaga    29   930\n",
              "1    2       Arizona    34  1017\n",
              "2    3   Utah Valley    32   944\n",
              "3    4        Toledo    33   973\n",
              "4    5  Oral Roberts    31   907"
            ],
            "text/html": [
              "\n",
              "  <div id=\"df-6364ade1-8882-431c-85a3-9bdc4bc4bee1\">\n",
              "    <div class=\"colab-df-container\">\n",
              "      <div>\n",
              "<style scoped>\n",
              "    .dataframe tbody tr th:only-of-type {\n",
              "        vertical-align: middle;\n",
              "    }\n",
              "\n",
              "    .dataframe tbody tr th {\n",
              "        vertical-align: top;\n",
              "    }\n",
              "\n",
              "    .dataframe thead th {\n",
              "        text-align: right;\n",
              "    }\n",
              "</style>\n",
              "<table border=\"1\" class=\"dataframe\">\n",
              "  <thead>\n",
              "    <tr style=\"text-align: right;\">\n",
              "      <th></th>\n",
              "      <th>rank</th>\n",
              "      <th>school_name</th>\n",
              "      <th>drebs</th>\n",
              "      <th>rpg</th>\n",
              "    </tr>\n",
              "  </thead>\n",
              "  <tbody>\n",
              "    <tr>\n",
              "      <th>0</th>\n",
              "      <td>1</td>\n",
              "      <td>Gonzaga</td>\n",
              "      <td>29</td>\n",
              "      <td>930</td>\n",
              "    </tr>\n",
              "    <tr>\n",
              "      <th>1</th>\n",
              "      <td>2</td>\n",
              "      <td>Arizona</td>\n",
              "      <td>34</td>\n",
              "      <td>1017</td>\n",
              "    </tr>\n",
              "    <tr>\n",
              "      <th>2</th>\n",
              "      <td>3</td>\n",
              "      <td>Utah Valley</td>\n",
              "      <td>32</td>\n",
              "      <td>944</td>\n",
              "    </tr>\n",
              "    <tr>\n",
              "      <th>3</th>\n",
              "      <td>4</td>\n",
              "      <td>Toledo</td>\n",
              "      <td>33</td>\n",
              "      <td>973</td>\n",
              "    </tr>\n",
              "    <tr>\n",
              "      <th>4</th>\n",
              "      <td>5</td>\n",
              "      <td>Oral Roberts</td>\n",
              "      <td>31</td>\n",
              "      <td>907</td>\n",
              "    </tr>\n",
              "  </tbody>\n",
              "</table>\n",
              "</div>\n",
              "      <button class=\"colab-df-convert\" onclick=\"convertToInteractive('df-6364ade1-8882-431c-85a3-9bdc4bc4bee1')\"\n",
              "              title=\"Convert this dataframe to an interactive table.\"\n",
              "              style=\"display:none;\">\n",
              "        \n",
              "  <svg xmlns=\"http://www.w3.org/2000/svg\" height=\"24px\"viewBox=\"0 0 24 24\"\n",
              "       width=\"24px\">\n",
              "    <path d=\"M0 0h24v24H0V0z\" fill=\"none\"/>\n",
              "    <path d=\"M18.56 5.44l.94 2.06.94-2.06 2.06-.94-2.06-.94-.94-2.06-.94 2.06-2.06.94zm-11 1L8.5 8.5l.94-2.06 2.06-.94-2.06-.94L8.5 2.5l-.94 2.06-2.06.94zm10 10l.94 2.06.94-2.06 2.06-.94-2.06-.94-.94-2.06-.94 2.06-2.06.94z\"/><path d=\"M17.41 7.96l-1.37-1.37c-.4-.4-.92-.59-1.43-.59-.52 0-1.04.2-1.43.59L10.3 9.45l-7.72 7.72c-.78.78-.78 2.05 0 2.83L4 21.41c.39.39.9.59 1.41.59.51 0 1.02-.2 1.41-.59l7.78-7.78 2.81-2.81c.8-.78.8-2.07 0-2.86zM5.41 20L4 18.59l7.72-7.72 1.47 1.35L5.41 20z\"/>\n",
              "  </svg>\n",
              "      </button>\n",
              "      \n",
              "  <style>\n",
              "    .colab-df-container {\n",
              "      display:flex;\n",
              "      flex-wrap:wrap;\n",
              "      gap: 12px;\n",
              "    }\n",
              "\n",
              "    .colab-df-convert {\n",
              "      background-color: #E8F0FE;\n",
              "      border: none;\n",
              "      border-radius: 50%;\n",
              "      cursor: pointer;\n",
              "      display: none;\n",
              "      fill: #1967D2;\n",
              "      height: 32px;\n",
              "      padding: 0 0 0 0;\n",
              "      width: 32px;\n",
              "    }\n",
              "\n",
              "    .colab-df-convert:hover {\n",
              "      background-color: #E2EBFA;\n",
              "      box-shadow: 0px 1px 2px rgba(60, 64, 67, 0.3), 0px 1px 3px 1px rgba(60, 64, 67, 0.15);\n",
              "      fill: #174EA6;\n",
              "    }\n",
              "\n",
              "    [theme=dark] .colab-df-convert {\n",
              "      background-color: #3B4455;\n",
              "      fill: #D2E3FC;\n",
              "    }\n",
              "\n",
              "    [theme=dark] .colab-df-convert:hover {\n",
              "      background-color: #434B5C;\n",
              "      box-shadow: 0px 1px 3px 1px rgba(0, 0, 0, 0.15);\n",
              "      filter: drop-shadow(0px 1px 2px rgba(0, 0, 0, 0.3));\n",
              "      fill: #FFFFFF;\n",
              "    }\n",
              "  </style>\n",
              "\n",
              "      <script>\n",
              "        const buttonEl =\n",
              "          document.querySelector('#df-6364ade1-8882-431c-85a3-9bdc4bc4bee1 button.colab-df-convert');\n",
              "        buttonEl.style.display =\n",
              "          google.colab.kernel.accessAllowed ? 'block' : 'none';\n",
              "\n",
              "        async function convertToInteractive(key) {\n",
              "          const element = document.querySelector('#df-6364ade1-8882-431c-85a3-9bdc4bc4bee1');\n",
              "          const dataTable =\n",
              "            await google.colab.kernel.invokeFunction('convertToInteractive',\n",
              "                                                     [key], {});\n",
              "          if (!dataTable) return;\n",
              "\n",
              "          const docLinkHtml = 'Like what you see? Visit the ' +\n",
              "            '<a target=\"_blank\" href=https://colab.research.google.com/notebooks/data_table.ipynb>data table notebook</a>'\n",
              "            + ' to learn more about interactive tables.';\n",
              "          element.innerHTML = '';\n",
              "          dataTable['output_type'] = 'display_data';\n",
              "          await google.colab.output.renderOutput(dataTable, element);\n",
              "          const docLink = document.createElement('div');\n",
              "          docLink.innerHTML = docLinkHtml;\n",
              "          element.appendChild(docLink);\n",
              "        }\n",
              "      </script>\n",
              "    </div>\n",
              "  </div>\n",
              "  "
            ]
          },
          "metadata": {},
          "execution_count": 10
        }
      ]
    },
    {
      "cell_type": "markdown",
      "source": [
        "## Create Bracket"
      ],
      "metadata": {
        "id": "3XOPY_Qj8-rr"
      }
    },
    {
      "cell_type": "code",
      "source": [
        "main_df[main_df['school_name'] == 'Vermont']"
      ],
      "metadata": {
        "colab": {
          "base_uri": "https://localhost:8080/",
          "height": 81
        },
        "id": "MnaNCCfD-OSa",
        "outputId": "1bad7094-89ee-499d-ba1c-e4a0b4dbe2ee"
      },
      "execution_count": 11,
      "outputs": [
        {
          "output_type": "execute_result",
          "data": {
            "text/plain": [
              "   rank school_name drebs  rpg\n",
              "22   23     Vermont    33  916"
            ],
            "text/html": [
              "\n",
              "  <div id=\"df-a0de121f-81aa-49bf-8647-ceadabf81e22\">\n",
              "    <div class=\"colab-df-container\">\n",
              "      <div>\n",
              "<style scoped>\n",
              "    .dataframe tbody tr th:only-of-type {\n",
              "        vertical-align: middle;\n",
              "    }\n",
              "\n",
              "    .dataframe tbody tr th {\n",
              "        vertical-align: top;\n",
              "    }\n",
              "\n",
              "    .dataframe thead th {\n",
              "        text-align: right;\n",
              "    }\n",
              "</style>\n",
              "<table border=\"1\" class=\"dataframe\">\n",
              "  <thead>\n",
              "    <tr style=\"text-align: right;\">\n",
              "      <th></th>\n",
              "      <th>rank</th>\n",
              "      <th>school_name</th>\n",
              "      <th>drebs</th>\n",
              "      <th>rpg</th>\n",
              "    </tr>\n",
              "  </thead>\n",
              "  <tbody>\n",
              "    <tr>\n",
              "      <th>22</th>\n",
              "      <td>23</td>\n",
              "      <td>Vermont</td>\n",
              "      <td>33</td>\n",
              "      <td>916</td>\n",
              "    </tr>\n",
              "  </tbody>\n",
              "</table>\n",
              "</div>\n",
              "      <button class=\"colab-df-convert\" onclick=\"convertToInteractive('df-a0de121f-81aa-49bf-8647-ceadabf81e22')\"\n",
              "              title=\"Convert this dataframe to an interactive table.\"\n",
              "              style=\"display:none;\">\n",
              "        \n",
              "  <svg xmlns=\"http://www.w3.org/2000/svg\" height=\"24px\"viewBox=\"0 0 24 24\"\n",
              "       width=\"24px\">\n",
              "    <path d=\"M0 0h24v24H0V0z\" fill=\"none\"/>\n",
              "    <path d=\"M18.56 5.44l.94 2.06.94-2.06 2.06-.94-2.06-.94-.94-2.06-.94 2.06-2.06.94zm-11 1L8.5 8.5l.94-2.06 2.06-.94-2.06-.94L8.5 2.5l-.94 2.06-2.06.94zm10 10l.94 2.06.94-2.06 2.06-.94-2.06-.94-.94-2.06-.94 2.06-2.06.94z\"/><path d=\"M17.41 7.96l-1.37-1.37c-.4-.4-.92-.59-1.43-.59-.52 0-1.04.2-1.43.59L10.3 9.45l-7.72 7.72c-.78.78-.78 2.05 0 2.83L4 21.41c.39.39.9.59 1.41.59.51 0 1.02-.2 1.41-.59l7.78-7.78 2.81-2.81c.8-.78.8-2.07 0-2.86zM5.41 20L4 18.59l7.72-7.72 1.47 1.35L5.41 20z\"/>\n",
              "  </svg>\n",
              "      </button>\n",
              "      \n",
              "  <style>\n",
              "    .colab-df-container {\n",
              "      display:flex;\n",
              "      flex-wrap:wrap;\n",
              "      gap: 12px;\n",
              "    }\n",
              "\n",
              "    .colab-df-convert {\n",
              "      background-color: #E8F0FE;\n",
              "      border: none;\n",
              "      border-radius: 50%;\n",
              "      cursor: pointer;\n",
              "      display: none;\n",
              "      fill: #1967D2;\n",
              "      height: 32px;\n",
              "      padding: 0 0 0 0;\n",
              "      width: 32px;\n",
              "    }\n",
              "\n",
              "    .colab-df-convert:hover {\n",
              "      background-color: #E2EBFA;\n",
              "      box-shadow: 0px 1px 2px rgba(60, 64, 67, 0.3), 0px 1px 3px 1px rgba(60, 64, 67, 0.15);\n",
              "      fill: #174EA6;\n",
              "    }\n",
              "\n",
              "    [theme=dark] .colab-df-convert {\n",
              "      background-color: #3B4455;\n",
              "      fill: #D2E3FC;\n",
              "    }\n",
              "\n",
              "    [theme=dark] .colab-df-convert:hover {\n",
              "      background-color: #434B5C;\n",
              "      box-shadow: 0px 1px 3px 1px rgba(0, 0, 0, 0.15);\n",
              "      filter: drop-shadow(0px 1px 2px rgba(0, 0, 0, 0.3));\n",
              "      fill: #FFFFFF;\n",
              "    }\n",
              "  </style>\n",
              "\n",
              "      <script>\n",
              "        const buttonEl =\n",
              "          document.querySelector('#df-a0de121f-81aa-49bf-8647-ceadabf81e22 button.colab-df-convert');\n",
              "        buttonEl.style.display =\n",
              "          google.colab.kernel.accessAllowed ? 'block' : 'none';\n",
              "\n",
              "        async function convertToInteractive(key) {\n",
              "          const element = document.querySelector('#df-a0de121f-81aa-49bf-8647-ceadabf81e22');\n",
              "          const dataTable =\n",
              "            await google.colab.kernel.invokeFunction('convertToInteractive',\n",
              "                                                     [key], {});\n",
              "          if (!dataTable) return;\n",
              "\n",
              "          const docLinkHtml = 'Like what you see? Visit the ' +\n",
              "            '<a target=\"_blank\" href=https://colab.research.google.com/notebooks/data_table.ipynb>data table notebook</a>'\n",
              "            + ' to learn more about interactive tables.';\n",
              "          element.innerHTML = '';\n",
              "          dataTable['output_type'] = 'display_data';\n",
              "          await google.colab.output.renderOutput(dataTable, element);\n",
              "          const docLink = document.createElement('div');\n",
              "          docLink.innerHTML = docLinkHtml;\n",
              "          element.appendChild(docLink);\n",
              "        }\n",
              "      </script>\n",
              "    </div>\n",
              "  </div>\n",
              "  "
            ]
          },
          "metadata": {},
          "execution_count": 11
        }
      ]
    },
    {
      "cell_type": "code",
      "source": [
        "# test bracket\n",
        "\n",
        "## Seed 1\n",
        "team1 = main_df[main_df['school_name'] == 'Gonzaga']\n",
        "team2 = main_df[main_df['school_name'] == 'Georgia St.']\n",
        "\n",
        "team3 = main_df[main_df['school_name'] == 'Boise St.']\n",
        "team4 = main_df[main_df['school_name'] == 'Memphis']\n",
        "\n",
        "team5 = main_df[main_df['school_name'] == 'UConn']\n",
        "team6 = main_df[main_df['school_name'] == 'New Mexico St.']\n",
        "\n",
        "team7 = main_df[main_df['school_name'] == 'Arkansas']\n",
        "team8 = main_df[main_df['school_name'] == 'Vermont']"
      ],
      "metadata": {
        "id": "_E0pgMTL84v-"
      },
      "execution_count": 12,
      "outputs": []
    },
    {
      "cell_type": "code",
      "source": [
        "main_df[main_df['school_name'] == 'Vermont'].iloc[0]"
      ],
      "metadata": {
        "colab": {
          "base_uri": "https://localhost:8080/"
        },
        "id": "ivbyors__6vi",
        "outputId": "007dccde-4654-4fe6-e2a1-a799ee26a46a"
      },
      "execution_count": 13,
      "outputs": [
        {
          "output_type": "execute_result",
          "data": {
            "text/plain": [
              "rank                23\n",
              "school_name    Vermont\n",
              "drebs               33\n",
              "rpg                916\n",
              "Name: 22, dtype: object"
            ]
          },
          "metadata": {},
          "execution_count": 13
        }
      ]
    },
    {
      "cell_type": "code",
      "source": [
        "if team1.iloc[0]['drebs'] > team2.iloc[0]['drebs']:\n",
        "  print(f\"Predicted winner: {team1.iloc[0]['school_name']}\")\n",
        "else:\n",
        "  print(f\"Predicted winner: {team1.iloc[0]['school_name']}\")"
      ],
      "metadata": {
        "colab": {
          "base_uri": "https://localhost:8080/"
        },
        "id": "koOVyG35AI7R",
        "outputId": "b01f4c9e-395f-4db3-9e44-a4a8bb7489db"
      },
      "execution_count": 14,
      "outputs": [
        {
          "output_type": "stream",
          "name": "stdout",
          "text": [
            "Predicted winner: Gonzaga\n"
          ]
        }
      ]
    },
    {
      "cell_type": "code",
      "source": [
        "r1_dict = {'first_round_s1': [team1, team2],\n",
        "             'first_round_s2': [team3, team4],\n",
        "             'first_round_s3': [team5, team6],\n",
        "             'first_round_s4': [team7, team8]}"
      ],
      "metadata": {
        "id": "X2R09G1TCQaj"
      },
      "execution_count": 15,
      "outputs": []
    },
    {
      "cell_type": "code",
      "source": [
        "round1_w_ls = []\n",
        "\n",
        "for dict_key in list(r1_dict.keys()):\n",
        "  if r1_dict[dict_key][0].iloc[0]['drebs'] >  r1_dict[dict_key][1].iloc[0]['drebs']:\n",
        "    print(f\"Predicted winner for Round 1: {r1_dict[dict_key][0].iloc[0]['school_name']}\")\n",
        "    round1_w_ls.append(r1_dict[dict_key][0].iloc[0]['school_name'])\n",
        "  else:\n",
        "    print(f\"Predicted winner for Round 1: {r1_dict[dict_key][1].iloc[0]['school_name']}\")\n",
        "    round1_w_ls.append(r1_dict[dict_key][1].iloc[0]['school_name'])\n",
        "\n",
        "# Create Round 2 Dictionary\n",
        "r2_team_ls = []\n",
        "\n",
        "for value in round1_w_ls:\n",
        "  r2_team_ls.append(main_df[main_df['school_name'] == value])\n",
        "  \n",
        "  \n",
        "r2_dict = {'second_round_s1': [r2_team_ls[0], r2_team_ls[1]],\n",
        "           'second_round_s2': [r2_team_ls[2], r2_team_ls[3]]}\n",
        "\n",
        "# Round 2\n",
        "round2_w_ls = []\n",
        "\n",
        "for dict_key in list(r2_dict.keys()):\n",
        "  if r2_dict[dict_key][0].iloc[0]['drebs'] >  r2_dict[dict_key][1].iloc[0]['drebs']:\n",
        "    print(f\"Predicted winner for Round 2: {r2_dict[dict_key][0].iloc[0]['school_name']}\")\n",
        "    round2_w_ls.append(r2_dict[dict_key][0].iloc[0]['school_name'])\n",
        "  else:\n",
        "    print(f\"Predicted winner for Round 2: {r2_dict[dict_key][1].iloc[0]['school_name']}\")\n",
        "    round2_w_ls.append(r2_dict[dict_key][1].iloc[0]['school_name'])\n",
        "\n",
        "# Create Round 3 Dictionary\n",
        "r3_team_ls = []\n",
        "\n",
        "for value in round2_w_ls:\n",
        "  r3_team_ls.append(main_df[main_df['school_name'] == value])\n",
        "  \n",
        "  \n",
        "r3_dict = {'third_round_s1': [r2_team_ls[0], r2_team_ls[1]]}\n",
        "\n",
        "# Round 3\n",
        "round3_w_ls = []\n",
        "\n",
        "for dict_key in list(r3_dict.keys()):\n",
        "  if r3_dict[dict_key][0].iloc[0]['drebs'] >  r3_dict[dict_key][1].iloc[0]['drebs']:\n",
        "    print(f\"Predicted winner for Round 3: {r3_dict[dict_key][0].iloc[0]['school_name']}\")\n",
        "    round3_w_ls.append(r3_dict[dict_key][0].iloc[0]['school_name'])\n",
        "  else:\n",
        "    print(f\"Predicted winner for Round 3: {r3_dict[dict_key][1].iloc[0]['school_name']}\")\n",
        "    round3_w_ls.append(r3_dict[dict_key][1].iloc[0]['school_name'])"
      ],
      "metadata": {
        "colab": {
          "base_uri": "https://localhost:8080/"
        },
        "id": "5aoi0HZiAqRS",
        "outputId": "27a70599-b18d-420c-8e32-c616c20c26ed"
      },
      "execution_count": 16,
      "outputs": [
        {
          "output_type": "stream",
          "name": "stdout",
          "text": [
            "Predicted winner for Round 1: Gonzaga\n",
            "Predicted winner for Round 1: Boise St.\n",
            "Predicted winner for Round 1: New Mexico St.\n",
            "Predicted winner for Round 1: Vermont\n",
            "Predicted winner for Round 2: Boise St.\n",
            "Predicted winner for Round 2: Vermont\n",
            "Predicted winner for Round 3: Boise St.\n"
          ]
        }
      ]
    },
    {
      "cell_type": "code",
      "source": [
        ""
      ],
      "metadata": {
        "id": "P9621sxADsxp"
      },
      "execution_count": 16,
      "outputs": []
    }
  ]
}