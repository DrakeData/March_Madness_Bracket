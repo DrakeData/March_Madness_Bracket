{
  "nbformat": 4,
  "nbformat_minor": 0,
  "metadata": {
    "colab": {
      "name": "mm_bracket.ipynb",
      "provenance": [],
      "toc_visible": true,
      "authorship_tag": "ABX9TyNCCx5DuAvk1om8Vh/CmWAn",
      "include_colab_link": true
    },
    "kernelspec": {
      "name": "python3",
      "display_name": "Python 3"
    },
    "language_info": {
      "name": "python"
    }
  },
  "cells": [
    {
      "cell_type": "markdown",
      "metadata": {
        "id": "view-in-github",
        "colab_type": "text"
      },
      "source": [
        "<a href=\"https://colab.research.google.com/github/DrakeData/March_Madness_Bracket/blob/main/mm_bracket.ipynb\" target=\"_parent\"><img src=\"https://colab.research.google.com/assets/colab-badge.svg\" alt=\"Open In Colab\"/></a>"
      ]
    },
    {
      "cell_type": "markdown",
      "source": [
        "# March Madness - Bracket Generator\n",
        "This is a simple script to generate and predict a March Madness bracket. It will be updated each year with new statistics.\n",
        "\n",
        "## Helpfull Linkes:\n",
        "- [March Maddness - Live Bracket](https://www.ncaa.com/march-madness-live/bracket)\n",
        "- [NCAA Men's Backetball Stats](https://www.ncaa.com/stats/basketball-men/d1/current/team/859)\n",
        "\n",
        "## Code Year Info\n",
        "- 2022: Looking at only Defensive Rebounds Per Game.\n"
      ],
      "metadata": {
        "id": "5dyK1e2Fpbf8"
      }
    },
    {
      "cell_type": "code",
      "execution_count": 1,
      "metadata": {
        "id": "OEuiY2vDzi-6"
      },
      "outputs": [],
      "source": [
        "import requests\n",
        "from bs4 import BeautifulSoup\n",
        "import datetime\n",
        "from datetime import datetime, timedelta, date\n",
        "from dateutil.parser import parse\n",
        "import pandas as pd\n",
        "from IPython.display import clear_output"
      ]
    },
    {
      "cell_type": "markdown",
      "source": [
        "## Webscrape Data\n",
        "Data scraped from [NCAA Men's Basketball](https://www.ncaa.com/stats/basketball-men/d1/current/team/859) website."
      ],
      "metadata": {
        "id": "SHICBPgH0eJf"
      }
    },
    {
      "cell_type": "code",
      "source": [
        "main_url = 'https://www.ncaa.com/stats/basketball-men/d1/current/team/859'\n",
        "page = requests.get(main_url)\n",
        "soup = BeautifulSoup(page.content, 'html.parser')\n",
        "\n",
        "print(soup.prettify())\n",
        "\n",
        "clear_output()"
      ],
      "metadata": {
        "id": "FOJR2zi20dCo"
      },
      "execution_count": 2,
      "outputs": []
    },
    {
      "cell_type": "code",
      "source": [
        "cal_data = soup.find('tbody')\n",
        "print(cal_data.prettify())\n",
        "\n",
        "clear_output()"
      ],
      "metadata": {
        "id": "vXy_G1xV0xs5"
      },
      "execution_count": 3,
      "outputs": []
    },
    {
      "cell_type": "code",
      "source": [
        "date_data = cal_data.find_all('tr')\n",
        "date_data\n",
        "\n",
        "clear_output()"
      ],
      "metadata": {
        "id": "DzxJuNif1fra"
      },
      "execution_count": 4,
      "outputs": []
    },
    {
      "cell_type": "code",
      "source": [
        "date_data[0].find_all('td')"
      ],
      "metadata": {
        "colab": {
          "base_uri": "https://localhost:8080/"
        },
        "id": "cCS_dzKN1sIw",
        "outputId": "2dbd96b6-b529-4df9-fbec-5cd77a4f533a"
      },
      "execution_count": 5,
      "outputs": [
        {
          "output_type": "execute_result",
          "data": {
            "text/plain": [
              "[<td>1</td>,\n",
              " <td><img src=\"https://i.turner.ncaa.com/sites/default/files/images/logos/schools/bgl/gonzaga.svg\"/><a class=\"school\" href=\"/schools/gonzaga\">Gonzaga</a></td>,\n",
              " <td>29</td>,\n",
              " <td>930</td>,\n",
              " <td>32.07</td>]"
            ]
          },
          "metadata": {},
          "execution_count": 5
        }
      ]
    },
    {
      "cell_type": "code",
      "source": [
        "date_data[1]"
      ],
      "metadata": {
        "colab": {
          "base_uri": "https://localhost:8080/"
        },
        "id": "ApbuGeEz5scX",
        "outputId": "0d252df6-0f3f-44ba-d8b3-f8daba9b6c76"
      },
      "execution_count": 6,
      "outputs": [
        {
          "output_type": "execute_result",
          "data": {
            "text/plain": [
              "<tr>\n",
              "<td>2</td>\n",
              "<td><img src=\"https://i.turner.ncaa.com/sites/default/files/images/logos/schools/bgl/arizona.svg\"/><a class=\"school\" href=\"/schools/arizona\">Arizona</a></td>\n",
              "<td>34</td>\n",
              "<td>1017</td>\n",
              "<td>29.91</td>\n",
              "</tr>"
            ]
          },
          "metadata": {},
          "execution_count": 6
        }
      ]
    },
    {
      "cell_type": "code",
      "source": [
        "test = date_data[0].find_all('td')\n",
        "test"
      ],
      "metadata": {
        "colab": {
          "base_uri": "https://localhost:8080/"
        },
        "id": "vr1wZsHT2xyJ",
        "outputId": "87aa7be5-20d2-4862-cb49-d4a0640dbc9e"
      },
      "execution_count": 7,
      "outputs": [
        {
          "output_type": "execute_result",
          "data": {
            "text/plain": [
              "[<td>1</td>,\n",
              " <td><img src=\"https://i.turner.ncaa.com/sites/default/files/images/logos/schools/bgl/gonzaga.svg\"/><a class=\"school\" href=\"/schools/gonzaga\">Gonzaga</a></td>,\n",
              " <td>29</td>,\n",
              " <td>930</td>,\n",
              " <td>32.07</td>]"
            ]
          },
          "metadata": {},
          "execution_count": 7
        }
      ]
    },
    {
      "cell_type": "code",
      "source": [
        "# loop through NCAA website\n",
        "url_ls = ['https://www.ncaa.com/stats/basketball-men/d1/current/team/859',\n",
        "          'https://www.ncaa.com/stats/basketball-men/d1/current/team/859/p2',\n",
        "          'https://www.ncaa.com/stats/basketball-men/d1/current/team/859/p3',\n",
        "          'https://www.ncaa.com/stats/basketball-men/d1/current/team/859/p4',\n",
        "          'https://www.ncaa.com/stats/basketball-men/d1/current/team/859/p5',\n",
        "          'https://www.ncaa.com/stats/basketball-men/d1/current/team/859/p6',\n",
        "          'https://www.ncaa.com/stats/basketball-men/d1/current/team/859/p7']"
      ],
      "metadata": {
        "id": "rYxygb436T-y"
      },
      "execution_count": 8,
      "outputs": []
    },
    {
      "cell_type": "code",
      "source": [
        "rank_ls = []\n",
        "team_name_ls = []\n",
        "dearbs_ls = []\n",
        "rpg_ls = []\n",
        "\n",
        "\n",
        "for url in url_ls:\n",
        "  main_url = url\n",
        "  page = requests.get(main_url)\n",
        "  soup = BeautifulSoup(page.content, 'html.parser')\n",
        "\n",
        "  cal_data = soup.find('tbody')\n",
        "  date_data = cal_data.find_all('tr')\n",
        "\n",
        "  for raw_data in date_data:\n",
        "    main = raw_data.find_all('td')\n",
        "\n",
        "    rank = main[0].text\n",
        "    team_name = main[1].text\n",
        "    dearbs = main[2].text\n",
        "    rpg = main[3].text\n",
        "\n",
        "    rank_ls.append(rank)\n",
        "    team_name_ls.append(team_name)\n",
        "    dearbs_ls.append(dearbs)\n",
        "    rpg_ls.append(rpg)"
      ],
      "metadata": {
        "id": "GZC0MP3n2-bj"
      },
      "execution_count": 9,
      "outputs": []
    },
    {
      "cell_type": "code",
      "source": [
        "main_df = pd.DataFrame({'rank': rank_ls,\n",
        "                        'school_name': team_name_ls,\n",
        "                        'drebs': dearbs_ls,\n",
        "                        'rpg': rpg_ls})\n",
        "\n",
        "main_df.head()"
      ],
      "metadata": {
        "colab": {
          "base_uri": "https://localhost:8080/",
          "height": 206
        },
        "id": "Za4gQ3CJ7ym_",
        "outputId": "23f0ca7d-d1b2-4d79-8c0e-db57260c6fe8"
      },
      "execution_count": 10,
      "outputs": [
        {
          "output_type": "execute_result",
          "data": {
            "text/plain": [
              "  rank   school_name drebs   rpg\n",
              "0    1       Gonzaga    29   930\n",
              "1    2       Arizona    34  1017\n",
              "2    3   Utah Valley    32   944\n",
              "3    4        Toledo    33   973\n",
              "4    5  Oral Roberts    31   907"
            ],
            "text/html": [
              "\n",
              "  <div id=\"df-e5c43b35-b43b-471d-8135-bcdd5e1dea92\">\n",
              "    <div class=\"colab-df-container\">\n",
              "      <div>\n",
              "<style scoped>\n",
              "    .dataframe tbody tr th:only-of-type {\n",
              "        vertical-align: middle;\n",
              "    }\n",
              "\n",
              "    .dataframe tbody tr th {\n",
              "        vertical-align: top;\n",
              "    }\n",
              "\n",
              "    .dataframe thead th {\n",
              "        text-align: right;\n",
              "    }\n",
              "</style>\n",
              "<table border=\"1\" class=\"dataframe\">\n",
              "  <thead>\n",
              "    <tr style=\"text-align: right;\">\n",
              "      <th></th>\n",
              "      <th>rank</th>\n",
              "      <th>school_name</th>\n",
              "      <th>drebs</th>\n",
              "      <th>rpg</th>\n",
              "    </tr>\n",
              "  </thead>\n",
              "  <tbody>\n",
              "    <tr>\n",
              "      <th>0</th>\n",
              "      <td>1</td>\n",
              "      <td>Gonzaga</td>\n",
              "      <td>29</td>\n",
              "      <td>930</td>\n",
              "    </tr>\n",
              "    <tr>\n",
              "      <th>1</th>\n",
              "      <td>2</td>\n",
              "      <td>Arizona</td>\n",
              "      <td>34</td>\n",
              "      <td>1017</td>\n",
              "    </tr>\n",
              "    <tr>\n",
              "      <th>2</th>\n",
              "      <td>3</td>\n",
              "      <td>Utah Valley</td>\n",
              "      <td>32</td>\n",
              "      <td>944</td>\n",
              "    </tr>\n",
              "    <tr>\n",
              "      <th>3</th>\n",
              "      <td>4</td>\n",
              "      <td>Toledo</td>\n",
              "      <td>33</td>\n",
              "      <td>973</td>\n",
              "    </tr>\n",
              "    <tr>\n",
              "      <th>4</th>\n",
              "      <td>5</td>\n",
              "      <td>Oral Roberts</td>\n",
              "      <td>31</td>\n",
              "      <td>907</td>\n",
              "    </tr>\n",
              "  </tbody>\n",
              "</table>\n",
              "</div>\n",
              "      <button class=\"colab-df-convert\" onclick=\"convertToInteractive('df-e5c43b35-b43b-471d-8135-bcdd5e1dea92')\"\n",
              "              title=\"Convert this dataframe to an interactive table.\"\n",
              "              style=\"display:none;\">\n",
              "        \n",
              "  <svg xmlns=\"http://www.w3.org/2000/svg\" height=\"24px\"viewBox=\"0 0 24 24\"\n",
              "       width=\"24px\">\n",
              "    <path d=\"M0 0h24v24H0V0z\" fill=\"none\"/>\n",
              "    <path d=\"M18.56 5.44l.94 2.06.94-2.06 2.06-.94-2.06-.94-.94-2.06-.94 2.06-2.06.94zm-11 1L8.5 8.5l.94-2.06 2.06-.94-2.06-.94L8.5 2.5l-.94 2.06-2.06.94zm10 10l.94 2.06.94-2.06 2.06-.94-2.06-.94-.94-2.06-.94 2.06-2.06.94z\"/><path d=\"M17.41 7.96l-1.37-1.37c-.4-.4-.92-.59-1.43-.59-.52 0-1.04.2-1.43.59L10.3 9.45l-7.72 7.72c-.78.78-.78 2.05 0 2.83L4 21.41c.39.39.9.59 1.41.59.51 0 1.02-.2 1.41-.59l7.78-7.78 2.81-2.81c.8-.78.8-2.07 0-2.86zM5.41 20L4 18.59l7.72-7.72 1.47 1.35L5.41 20z\"/>\n",
              "  </svg>\n",
              "      </button>\n",
              "      \n",
              "  <style>\n",
              "    .colab-df-container {\n",
              "      display:flex;\n",
              "      flex-wrap:wrap;\n",
              "      gap: 12px;\n",
              "    }\n",
              "\n",
              "    .colab-df-convert {\n",
              "      background-color: #E8F0FE;\n",
              "      border: none;\n",
              "      border-radius: 50%;\n",
              "      cursor: pointer;\n",
              "      display: none;\n",
              "      fill: #1967D2;\n",
              "      height: 32px;\n",
              "      padding: 0 0 0 0;\n",
              "      width: 32px;\n",
              "    }\n",
              "\n",
              "    .colab-df-convert:hover {\n",
              "      background-color: #E2EBFA;\n",
              "      box-shadow: 0px 1px 2px rgba(60, 64, 67, 0.3), 0px 1px 3px 1px rgba(60, 64, 67, 0.15);\n",
              "      fill: #174EA6;\n",
              "    }\n",
              "\n",
              "    [theme=dark] .colab-df-convert {\n",
              "      background-color: #3B4455;\n",
              "      fill: #D2E3FC;\n",
              "    }\n",
              "\n",
              "    [theme=dark] .colab-df-convert:hover {\n",
              "      background-color: #434B5C;\n",
              "      box-shadow: 0px 1px 3px 1px rgba(0, 0, 0, 0.15);\n",
              "      filter: drop-shadow(0px 1px 2px rgba(0, 0, 0, 0.3));\n",
              "      fill: #FFFFFF;\n",
              "    }\n",
              "  </style>\n",
              "\n",
              "      <script>\n",
              "        const buttonEl =\n",
              "          document.querySelector('#df-e5c43b35-b43b-471d-8135-bcdd5e1dea92 button.colab-df-convert');\n",
              "        buttonEl.style.display =\n",
              "          google.colab.kernel.accessAllowed ? 'block' : 'none';\n",
              "\n",
              "        async function convertToInteractive(key) {\n",
              "          const element = document.querySelector('#df-e5c43b35-b43b-471d-8135-bcdd5e1dea92');\n",
              "          const dataTable =\n",
              "            await google.colab.kernel.invokeFunction('convertToInteractive',\n",
              "                                                     [key], {});\n",
              "          if (!dataTable) return;\n",
              "\n",
              "          const docLinkHtml = 'Like what you see? Visit the ' +\n",
              "            '<a target=\"_blank\" href=https://colab.research.google.com/notebooks/data_table.ipynb>data table notebook</a>'\n",
              "            + ' to learn more about interactive tables.';\n",
              "          element.innerHTML = '';\n",
              "          dataTable['output_type'] = 'display_data';\n",
              "          await google.colab.output.renderOutput(dataTable, element);\n",
              "          const docLink = document.createElement('div');\n",
              "          docLink.innerHTML = docLinkHtml;\n",
              "          element.appendChild(docLink);\n",
              "        }\n",
              "      </script>\n",
              "    </div>\n",
              "  </div>\n",
              "  "
            ]
          },
          "metadata": {},
          "execution_count": 10
        }
      ]
    },
    {
      "cell_type": "markdown",
      "source": [
        "## Sweet 16 Winner Predictor"
      ],
      "metadata": {
        "id": "HcC6iNw6gZ4v"
      }
    },
    {
      "cell_type": "code",
      "source": [
        "def first_round(start_teams_dict):\n",
        "    '''\n",
        "    Looks at each competing team's Defensive Rebounds per Game (drebs) and selects the team with the highest \n",
        "    average score to move on to the next round. Simulates round 1 through the \n",
        "    sweet 16.\n",
        "\n",
        "    return: Sweet 16 winner to go onto the Elite 8\n",
        "    ''' \n",
        "    # First round \n",
        "    round1_w_ls = []\n",
        "\n",
        "    for dict_key in list(start_teams_dict.keys()):\n",
        "      if start_teams_dict[dict_key][0].iloc[0]['drebs'] >  start_teams_dict[dict_key][1].iloc[0]['drebs']:\n",
        "        print(f\"Predicted winner for Round 1: {start_teams_dict[dict_key][0].iloc[0]['school_name']}\")\n",
        "        round1_w_ls.append(start_teams_dict[dict_key][0].iloc[0]['school_name'])\n",
        "      else:\n",
        "        print(f\"Predicted winner for Round 1: {start_teams_dict[dict_key][1].iloc[0]['school_name']}\")\n",
        "        round1_w_ls.append(start_teams_dict[dict_key][1].iloc[0]['school_name'])\n",
        "\n",
        "    # Second Round\n",
        "    r2_team_ls = []\n",
        "\n",
        "    for value in round1_w_ls:\n",
        "      r2_team_ls.append(main_df[main_df['school_name'] == value])\n",
        "      \n",
        "      \n",
        "    r2_dict = {'second_round_s1': [r2_team_ls[0], r2_team_ls[1]],\n",
        "              'second_round_s2': [r2_team_ls[2], r2_team_ls[3]]}\n",
        "\n",
        "    round2_w_ls = []\n",
        "\n",
        "    for dict_key in list(r2_dict.keys()):\n",
        "      if r2_dict[dict_key][0].iloc[0]['drebs'] >  r2_dict[dict_key][1].iloc[0]['drebs']:\n",
        "        print(f\"Predicted winner for Round 2: {r2_dict[dict_key][0].iloc[0]['school_name']}\")\n",
        "        round2_w_ls.append(r2_dict[dict_key][0].iloc[0]['school_name'])\n",
        "      else:\n",
        "        print(f\"Predicted winner for Round 2: {r2_dict[dict_key][1].iloc[0]['school_name']}\")\n",
        "        round2_w_ls.append(r2_dict[dict_key][1].iloc[0]['school_name'])\n",
        "\n",
        "    # SWEET 16\n",
        "    r3_team_ls = []\n",
        "\n",
        "    for value in round2_w_ls:\n",
        "      r3_team_ls.append(main_df[main_df['school_name'] == value])\n",
        "      \n",
        "      \n",
        "    r3_dict = {'third_round_s1': [r2_team_ls[0], r2_team_ls[1]]}\n",
        "\n",
        "    for dict_key in list(r3_dict.keys()):\n",
        "      if r3_dict[dict_key][0].iloc[0]['drebs'] >  r3_dict[dict_key][1].iloc[0]['drebs']:\n",
        "        print(f\"Predicted Sweet 16 winner: {r3_dict[dict_key][0].iloc[0]['school_name']}\")\n",
        "        sweet16_winner = r3_dict[dict_key][0].iloc[0]['school_name']\n",
        "      else:\n",
        "        print(f\"Predicted Sweet 16 winner: {r3_dict[dict_key][1].iloc[0]['school_name']}\")\n",
        "        sweet16_winner = r3_dict[dict_key][1].iloc[0]['school_name']\n",
        "\n",
        "    return sweet16_winner"
      ],
      "metadata": {
        "id": "5aoi0HZiAqRS"
      },
      "execution_count": 11,
      "outputs": []
    },
    {
      "cell_type": "markdown",
      "source": [
        "### West Division Bracket"
      ],
      "metadata": {
        "id": "3XOPY_Qj8-rr"
      }
    },
    {
      "cell_type": "code",
      "source": [
        "## West Division 1\n",
        "team1 = main_df[main_df['school_name'] == 'Gonzaga']\n",
        "team2 = main_df[main_df['school_name'] == 'Georgia St.']\n",
        "\n",
        "team3 = main_df[main_df['school_name'] == 'Boise St.']\n",
        "team4 = main_df[main_df['school_name'] == 'Memphis']\n",
        "\n",
        "team5 = main_df[main_df['school_name'] == 'UConn']\n",
        "team6 = main_df[main_df['school_name'] == 'New Mexico St.']\n",
        "\n",
        "team7 = main_df[main_df['school_name'] == 'Arkansas']\n",
        "team8 = main_df[main_df['school_name'] == 'Vermont']"
      ],
      "metadata": {
        "id": "_E0pgMTL84v-"
      },
      "execution_count": 12,
      "outputs": []
    },
    {
      "cell_type": "code",
      "source": [
        "west_dict1 = {'first_round_s1': [team1, team2],\n",
        "             'first_round_s2': [team3, team4],\n",
        "             'first_round_s3': [team5, team6],\n",
        "             'first_round_s4': [team7, team8]}"
      ],
      "metadata": {
        "id": "X2R09G1TCQaj"
      },
      "execution_count": 13,
      "outputs": []
    },
    {
      "cell_type": "code",
      "source": [
        "west_s16_winner1 = first_round(west_dict1)\n",
        "west_s16_winner1"
      ],
      "metadata": {
        "id": "P9621sxADsxp",
        "colab": {
          "base_uri": "https://localhost:8080/",
          "height": 165
        },
        "outputId": "0a53814a-7dc2-4bd7-d166-5bfcc9df5b55"
      },
      "execution_count": 14,
      "outputs": [
        {
          "output_type": "stream",
          "name": "stdout",
          "text": [
            "Predicted winner for Round 1: Gonzaga\n",
            "Predicted winner for Round 1: Boise St.\n",
            "Predicted winner for Round 1: New Mexico St.\n",
            "Predicted winner for Round 1: Vermont\n",
            "Predicted winner for Round 2: Boise St.\n",
            "Predicted winner for Round 2: Vermont\n",
            "Predicted Sweet 16 winner: Boise St.\n"
          ]
        },
        {
          "output_type": "execute_result",
          "data": {
            "text/plain": [
              "'Boise St.'"
            ],
            "application/vnd.google.colaboratory.intrinsic+json": {
              "type": "string"
            }
          },
          "metadata": {},
          "execution_count": 14
        }
      ]
    },
    {
      "cell_type": "code",
      "source": [
        "## West Division 2\n",
        "team1 = main_df[main_df['school_name'] == 'Alabama']\n",
        "team2 = main_df[main_df['school_name'] == 'Notre Dame']\n",
        "\n",
        "team3 = main_df[main_df['school_name'] == 'Texas Tech']\n",
        "team4 = main_df[main_df['school_name'] == 'Montana St.']\n",
        "\n",
        "team5 = main_df[main_df['school_name'] == 'Michigan St.']\n",
        "team6 = main_df[main_df['school_name'] == 'Davidson']\n",
        "\n",
        "team7 = main_df[main_df['school_name'] == 'Duke']\n",
        "team8 = main_df[main_df['school_name'] == 'Cal St. Fullerton']"
      ],
      "metadata": {
        "id": "Qg6yffw3hQTy"
      },
      "execution_count": 83,
      "outputs": []
    },
    {
      "cell_type": "code",
      "source": [
        "west_dict2 = {'first_round_s1': [team1, team2],\n",
        "             'first_round_s2': [team3, team4],\n",
        "             'first_round_s3': [team5, team6],\n",
        "             'first_round_s4': [team7, team8]}"
      ],
      "metadata": {
        "id": "8eG96Cl3hQRi"
      },
      "execution_count": 84,
      "outputs": []
    },
    {
      "cell_type": "code",
      "source": [
        "west_s16_winner2 = first_round(west_dict2)\n",
        "west_s16_winner2"
      ],
      "metadata": {
        "id": "LNb2FnPmhQPA",
        "colab": {
          "base_uri": "https://localhost:8080/",
          "height": 165
        },
        "outputId": "d4b1622b-841e-462e-8e95-da5d49cdb4cc"
      },
      "execution_count": 85,
      "outputs": [
        {
          "output_type": "stream",
          "name": "stdout",
          "text": [
            "Predicted winner for Round 1: Notre Dame\n",
            "Predicted winner for Round 1: Montana St.\n",
            "Predicted winner for Round 1: Michigan St.\n",
            "Predicted winner for Round 1: Duke\n",
            "Predicted winner for Round 2: Montana St.\n",
            "Predicted winner for Round 2: Duke\n",
            "Predicted Sweet 16 winner: Montana St.\n"
          ]
        },
        {
          "output_type": "execute_result",
          "data": {
            "text/plain": [
              "'Montana St.'"
            ],
            "application/vnd.google.colaboratory.intrinsic+json": {
              "type": "string"
            }
          },
          "metadata": {},
          "execution_count": 85
        }
      ]
    },
    {
      "cell_type": "markdown",
      "source": [
        "### South Division"
      ],
      "metadata": {
        "id": "S8fMVgR3eHd6"
      }
    },
    {
      "cell_type": "code",
      "source": [
        "## South Division 1\n",
        "team1 = main_df[main_df['school_name'] == 'Arizona']\n",
        "team2 = main_df[main_df['school_name'] == 'Wright St.']\n",
        "\n",
        "team3 = main_df[main_df['school_name'] == 'Seton Hall']\n",
        "team4 = main_df[main_df['school_name'] == 'TCU']\n",
        "\n",
        "team5 = main_df[main_df['school_name'] == 'Houston']\n",
        "team6 = main_df[main_df['school_name'] == 'UAB']\n",
        "\n",
        "team7 = main_df[main_df['school_name'] == 'Illinois']\n",
        "team8 = main_df[main_df['school_name'] == 'Chattanooga']"
      ],
      "metadata": {
        "id": "yQ5FRJ-YeKnu"
      },
      "execution_count": 86,
      "outputs": []
    },
    {
      "cell_type": "code",
      "source": [
        "south_dict1 = {'first_round_s1': [team1, team2],\n",
        "             'first_round_s2': [team3, team4],\n",
        "             'first_round_s3': [team5, team6],\n",
        "             'first_round_s4': [team7, team8]}"
      ],
      "metadata": {
        "id": "Mc5c9c0IejGA"
      },
      "execution_count": 87,
      "outputs": []
    },
    {
      "cell_type": "code",
      "source": [
        "south_e8_winner1 = first_round(south_dict1)\n",
        "south_e8_winner1"
      ],
      "metadata": {
        "colab": {
          "base_uri": "https://localhost:8080/",
          "height": 165
        },
        "id": "JiyCjtOSem3t",
        "outputId": "aa9571b2-f347-47f5-cb17-4c701000c7fe"
      },
      "execution_count": 88,
      "outputs": [
        {
          "output_type": "stream",
          "name": "stdout",
          "text": [
            "Predicted winner for Round 1: Wright St.\n",
            "Predicted winner for Round 1: TCU\n",
            "Predicted winner for Round 1: UAB\n",
            "Predicted winner for Round 1: Chattanooga\n",
            "Predicted winner for Round 2: Wright St.\n",
            "Predicted winner for Round 2: Chattanooga\n",
            "Predicted Sweet 16 winner: Wright St.\n"
          ]
        },
        {
          "output_type": "execute_result",
          "data": {
            "text/plain": [
              "'Wright St.'"
            ],
            "application/vnd.google.colaboratory.intrinsic+json": {
              "type": "string"
            }
          },
          "metadata": {},
          "execution_count": 88
        }
      ]
    },
    {
      "cell_type": "code",
      "source": [
        "## South Division 2\n",
        "team1 = main_df[main_df['school_name'] == 'Colorado St.']\n",
        "team2 = main_df[main_df['school_name'] == 'Michigan']\n",
        "\n",
        "team3 = main_df[main_df['school_name'] == 'Tennessee']\n",
        "team4 = main_df[main_df['school_name'] == 'Longwood']\n",
        "\n",
        "team5 = main_df[main_df['school_name'] == 'Ohio St.']\n",
        "team6 = main_df[main_df['school_name'] == 'Loyola Chicago']\n",
        "\n",
        "team7 = main_df[main_df['school_name'] == 'Villanova']\n",
        "team8 = main_df[main_df['school_name'] == 'Delaware']"
      ],
      "metadata": {
        "id": "E40Wlh-iao1n"
      },
      "execution_count": 89,
      "outputs": []
    },
    {
      "cell_type": "code",
      "source": [
        "south_dict2 = {'first_round_s1': [team1, team2],\n",
        "             'first_round_s2': [team3, team4],\n",
        "             'first_round_s3': [team5, team6],\n",
        "             'first_round_s4': [team7, team8]}"
      ],
      "metadata": {
        "id": "K_kOHR34aoy3"
      },
      "execution_count": 90,
      "outputs": []
    },
    {
      "cell_type": "code",
      "source": [
        "south_e8_winner2 = first_round(south_dict2)\n",
        "south_e8_winner2"
      ],
      "metadata": {
        "colab": {
          "base_uri": "https://localhost:8080/",
          "height": 165
        },
        "id": "vqzf3P_saor1",
        "outputId": "d50f2ebf-9f8e-4f4e-9696-fe4d9c6bb448"
      },
      "execution_count": 91,
      "outputs": [
        {
          "output_type": "stream",
          "name": "stdout",
          "text": [
            "Predicted winner for Round 1: Michigan\n",
            "Predicted winner for Round 1: Tennessee\n",
            "Predicted winner for Round 1: Loyola Chicago\n",
            "Predicted winner for Round 1: Delaware\n",
            "Predicted winner for Round 2: Tennessee\n",
            "Predicted winner for Round 2: Delaware\n",
            "Predicted Sweet 16 winner: Tennessee\n"
          ]
        },
        {
          "output_type": "execute_result",
          "data": {
            "text/plain": [
              "'Tennessee'"
            ],
            "application/vnd.google.colaboratory.intrinsic+json": {
              "type": "string"
            }
          },
          "metadata": {},
          "execution_count": 91
        }
      ]
    },
    {
      "cell_type": "markdown",
      "source": [
        "### East Division"
      ],
      "metadata": {
        "id": "n0Ts7vtAfNzf"
      }
    },
    {
      "cell_type": "code",
      "source": [
        "## East Division 1\n",
        "team1 = main_df[main_df['school_name'] == 'Baylor']\n",
        "team2 = main_df[main_df['school_name'] == 'Norfolk St.']\n",
        "\n",
        "team3 = main_df[main_df['school_name'] == 'North Carolina']\n",
        "team4 = main_df[main_df['school_name'] == 'Marquette']\n",
        "\n",
        "team5 = main_df[main_df['school_name'] == \"Saint Mary's (CA)\"]\n",
        "team6 = main_df[main_df['school_name'] == 'Indiana']\n",
        "\n",
        "team7 = main_df[main_df['school_name'] == 'UCLA']\n",
        "team8 = main_df[main_df['school_name'] == 'Akron']"
      ],
      "metadata": {
        "id": "tN1wsrPYfQcP"
      },
      "execution_count": 92,
      "outputs": []
    },
    {
      "cell_type": "code",
      "source": [
        "east_dict1 = {'first_round_s1': [team1, team2],\n",
        "             'first_round_s2': [team3, team4],\n",
        "             'first_round_s3': [team5, team6],\n",
        "             'first_round_s4': [team7, team8]}"
      ],
      "metadata": {
        "id": "jJfrFdNlYiPk"
      },
      "execution_count": 93,
      "outputs": []
    },
    {
      "cell_type": "code",
      "source": [
        "east_s16_winner1 = first_round(east_dict1)\n",
        "east_s16_winner1"
      ],
      "metadata": {
        "colab": {
          "base_uri": "https://localhost:8080/",
          "height": 165
        },
        "id": "IdB2ts-qYn72",
        "outputId": "a0f372f4-b1f9-437e-a599-4a2c6f30de7b"
      },
      "execution_count": 94,
      "outputs": [
        {
          "output_type": "stream",
          "name": "stdout",
          "text": [
            "Predicted winner for Round 1: Baylor\n",
            "Predicted winner for Round 1: North Carolina\n",
            "Predicted winner for Round 1: Indiana\n",
            "Predicted winner for Round 1: Akron\n",
            "Predicted winner for Round 2: North Carolina\n",
            "Predicted winner for Round 2: Indiana\n",
            "Predicted Sweet 16 winner: North Carolina\n"
          ]
        },
        {
          "output_type": "execute_result",
          "data": {
            "text/plain": [
              "'North Carolina'"
            ],
            "application/vnd.google.colaboratory.intrinsic+json": {
              "type": "string"
            }
          },
          "metadata": {},
          "execution_count": 94
        }
      ]
    },
    {
      "cell_type": "code",
      "source": [
        "## East Division 2\n",
        "team1 = main_df[main_df['school_name'] == 'Texas']\n",
        "team2 = main_df[main_df['school_name'] == 'Virginia Tech']\n",
        "\n",
        "team3 = main_df[main_df['school_name'] == 'Purdue']\n",
        "team4 = main_df[main_df['school_name'] == 'Yale']\n",
        "\n",
        "team5 = main_df[main_df['school_name'] == \"Murray St.\"]\n",
        "team6 = main_df[main_df['school_name'] == 'San Francisco']\n",
        "\n",
        "team7 = main_df[main_df['school_name'] == 'Kentucky']\n",
        "team8 = main_df[main_df['school_name'] == \"Saint Peter's\"]"
      ],
      "metadata": {
        "id": "0HTWcLyoYrtT"
      },
      "execution_count": 95,
      "outputs": []
    },
    {
      "cell_type": "code",
      "source": [
        "east_dict2 = {'first_round_s1': [team1, team2],\n",
        "             'first_round_s2': [team3, team4],\n",
        "             'first_round_s3': [team5, team6],\n",
        "             'first_round_s4': [team7, team8]}"
      ],
      "metadata": {
        "id": "YaJDnXUaYut0"
      },
      "execution_count": 96,
      "outputs": []
    },
    {
      "cell_type": "code",
      "source": [
        "east_s16_winner2 = first_round(east_dict2)\n",
        "east_s16_winner2"
      ],
      "metadata": {
        "colab": {
          "base_uri": "https://localhost:8080/",
          "height": 165
        },
        "id": "K_nHoP1bagHK",
        "outputId": "a3a20560-0e07-4e4c-aa51-355be9db432d"
      },
      "execution_count": 97,
      "outputs": [
        {
          "output_type": "stream",
          "name": "stdout",
          "text": [
            "Predicted winner for Round 1: Virginia Tech\n",
            "Predicted winner for Round 1: Purdue\n",
            "Predicted winner for Round 1: San Francisco\n",
            "Predicted winner for Round 1: Kentucky\n",
            "Predicted winner for Round 2: Virginia Tech\n",
            "Predicted winner for Round 2: Kentucky\n",
            "Predicted Sweet 16 winner: Virginia Tech\n"
          ]
        },
        {
          "output_type": "execute_result",
          "data": {
            "text/plain": [
              "'Virginia Tech'"
            ],
            "application/vnd.google.colaboratory.intrinsic+json": {
              "type": "string"
            }
          },
          "metadata": {},
          "execution_count": 97
        }
      ]
    },
    {
      "cell_type": "markdown",
      "source": [
        "### Midwest Division"
      ],
      "metadata": {
        "id": "u8iKtfYGbfDf"
      }
    },
    {
      "cell_type": "code",
      "source": [
        "## Midwest Division 1\n",
        "team1 = main_df[main_df['school_name'] == 'Kansas']\n",
        "team2 = main_df[main_df['school_name'] == 'Texas Southern']\n",
        "\n",
        "team3 = main_df[main_df['school_name'] == 'San Diego St.']\n",
        "team4 = main_df[main_df['school_name'] == 'Creighton']\n",
        "\n",
        "team5 = main_df[main_df['school_name'] == \"Iowa\"]\n",
        "team6 = main_df[main_df['school_name'] == 'Richmond']\n",
        "\n",
        "team7 = main_df[main_df['school_name'] == 'Providence']\n",
        "team8 = main_df[main_df['school_name'] == 'South Dakota St.']"
      ],
      "metadata": {
        "id": "kHYz2dSxaiw1"
      },
      "execution_count": 98,
      "outputs": []
    },
    {
      "cell_type": "code",
      "source": [
        "midwest_dict1 = {'first_round_s1': [team1, team2],\n",
        "             'first_round_s2': [team3, team4],\n",
        "             'first_round_s3': [team5, team6],\n",
        "             'first_round_s4': [team7, team8]}"
      ],
      "metadata": {
        "id": "46sYIuUzb5tN"
      },
      "execution_count": 99,
      "outputs": []
    },
    {
      "cell_type": "code",
      "source": [
        "midwest_s16_winner1 = first_round(midwest_dict1)\n",
        "midwest_s16_winner1"
      ],
      "metadata": {
        "colab": {
          "base_uri": "https://localhost:8080/",
          "height": 165
        },
        "id": "3Zpq1z-Yb9AF",
        "outputId": "4434ffab-0c78-417e-fbed-e6d1219b4e35"
      },
      "execution_count": 100,
      "outputs": [
        {
          "output_type": "stream",
          "name": "stdout",
          "text": [
            "Predicted winner for Round 1: Kansas\n",
            "Predicted winner for Round 1: Creighton\n",
            "Predicted winner for Round 1: Richmond\n",
            "Predicted winner for Round 1: South Dakota St.\n",
            "Predicted winner for Round 2: Kansas\n",
            "Predicted winner for Round 2: Richmond\n",
            "Predicted Sweet 16 winner: Kansas\n"
          ]
        },
        {
          "output_type": "execute_result",
          "data": {
            "text/plain": [
              "'Kansas'"
            ],
            "application/vnd.google.colaboratory.intrinsic+json": {
              "type": "string"
            }
          },
          "metadata": {},
          "execution_count": 100
        }
      ]
    },
    {
      "cell_type": "code",
      "source": [
        "## Midwest Division 2\n",
        "team1 = main_df[main_df['school_name'] == 'LSU']\n",
        "team2 = main_df[main_df['school_name'] == 'Iowa St.']\n",
        "\n",
        "team3 = main_df[main_df['school_name'] == 'Wisconsin']\n",
        "team4 = main_df[main_df['school_name'] == 'Colgate']\n",
        "\n",
        "team5 = main_df[main_df['school_name'] == \"USC Upstate\"]\n",
        "team6 = main_df[main_df['school_name'] == 'Miami (FL)']\n",
        "\n",
        "team7 = main_df[main_df['school_name'] == 'Auburn']\n",
        "team8 = main_df[main_df['school_name'] == 'Jacksonville St.']"
      ],
      "metadata": {
        "id": "zT6wEJV3cBuq"
      },
      "execution_count": 101,
      "outputs": []
    },
    {
      "cell_type": "code",
      "source": [
        "midwest_dict2 = {'first_round_s1': [team1, team2],\n",
        "             'first_round_s2': [team3, team4],\n",
        "             'first_round_s3': [team5, team6],\n",
        "             'first_round_s4': [team7, team8]}"
      ],
      "metadata": {
        "id": "bV73MRLTcHXL"
      },
      "execution_count": 102,
      "outputs": []
    },
    {
      "cell_type": "code",
      "source": [
        "midwest_s16_winner2 = first_round(midwest_dict2)\n",
        "midwest_s16_winner2"
      ],
      "metadata": {
        "colab": {
          "base_uri": "https://localhost:8080/",
          "height": 165
        },
        "id": "jCLqPttfcYuw",
        "outputId": "9171f4e2-02ff-4080-def3-79d94456b13a"
      },
      "execution_count": 103,
      "outputs": [
        {
          "output_type": "stream",
          "name": "stdout",
          "text": [
            "Predicted winner for Round 1: LSU\n",
            "Predicted winner for Round 1: Colgate\n",
            "Predicted winner for Round 1: Miami (FL)\n",
            "Predicted winner for Round 1: Auburn\n",
            "Predicted winner for Round 2: Colgate\n",
            "Predicted winner for Round 2: Miami (FL)\n",
            "Predicted Sweet 16 winner: Colgate\n"
          ]
        },
        {
          "output_type": "execute_result",
          "data": {
            "text/plain": [
              "'Colgate'"
            ],
            "application/vnd.google.colaboratory.intrinsic+json": {
              "type": "string"
            }
          },
          "metadata": {},
          "execution_count": 103
        }
      ]
    },
    {
      "cell_type": "markdown",
      "source": [
        "## Elite 8 Winner Prediction"
      ],
      "metadata": {
        "id": "tiAogyvldwRX"
      }
    },
    {
      "cell_type": "code",
      "source": [
        "def mm_winner(e8_teams_dict):\n",
        "    '''\n",
        "    Looks at each competing team's Defensive Rebounds per Game (drebs) and selects the team with the highest \n",
        "    average score to move on to the next round. Predicts March Madness winner (winner of the big dance).\n",
        "\n",
        "    return: March Madness winner\n",
        "    ''' \n",
        "    # First round \n",
        "    round1_w_ls = []\n",
        "\n",
        "    for dict_key in list(e8_teams_dict.keys()):\n",
        "      if e8_teams_dict[dict_key][0].iloc[0]['drebs'] >  e8_teams_dict[dict_key][1].iloc[0]['drebs']:\n",
        "        print(f\"Predicted winner for Elite 8: {e8_teams_dict[dict_key][0].iloc[0]['school_name']}\")\n",
        "        round1_w_ls.append(e8_teams_dict[dict_key][0].iloc[0]['school_name'])\n",
        "      else:\n",
        "        print(f\"Predicted winner for Elite 8: {e8_teams_dict[dict_key][1].iloc[0]['school_name']}\")\n",
        "        round1_w_ls.append(e8_teams_dict[dict_key][1].iloc[0]['school_name'])\n",
        "\n",
        "    # Second Round\n",
        "    r2_team_ls = []\n",
        "\n",
        "    for value in round1_w_ls:\n",
        "      r2_team_ls.append(main_df[main_df['school_name'] == value])\n",
        "      \n",
        "      \n",
        "    r2_dict = {'second_round_s1': [r2_team_ls[0], r2_team_ls[1]],\n",
        "              'second_round_s2': [r2_team_ls[2], r2_team_ls[3]]}\n",
        "\n",
        "    round2_w_ls = []\n",
        "\n",
        "    for dict_key in list(r2_dict.keys()):\n",
        "      if r2_dict[dict_key][0].iloc[0]['drebs'] >  r2_dict[dict_key][1].iloc[0]['drebs']:\n",
        "        print(f\"Predicted winner for Final 4: {r2_dict[dict_key][0].iloc[0]['school_name']}\")\n",
        "        round2_w_ls.append(r2_dict[dict_key][0].iloc[0]['school_name'])\n",
        "      else:\n",
        "        print(f\"Predicted winner for Final 4: {r2_dict[dict_key][1].iloc[0]['school_name']}\")\n",
        "        round2_w_ls.append(r2_dict[dict_key][1].iloc[0]['school_name'])\n",
        "\n",
        "    # SWEET 16\n",
        "    r3_team_ls = []\n",
        "\n",
        "    for value in round2_w_ls:\n",
        "      r3_team_ls.append(main_df[main_df['school_name'] == value])\n",
        "      \n",
        "      \n",
        "    r3_dict = {'third_round_s1': [r2_team_ls[0], r2_team_ls[1]]}\n",
        "\n",
        "    for dict_key in list(r3_dict.keys()):\n",
        "      if r3_dict[dict_key][0].iloc[0]['drebs'] >  r3_dict[dict_key][1].iloc[0]['drebs']:\n",
        "        print(f\"Predicted winner of the big dance: {r3_dict[dict_key][0].iloc[0]['school_name']}\")\n",
        "        mm_winner = r3_dict[dict_key][0].iloc[0]['school_name']\n",
        "      else:\n",
        "        print(f\"Predicted winner of the big dance: {r3_dict[dict_key][1].iloc[0]['school_name']}\")\n",
        "        mm_winner = r3_dict[dict_key][1].iloc[0]['school_name']\n",
        "\n",
        "    return mm_winner"
      ],
      "metadata": {
        "id": "jyMOLvBXgiDg"
      },
      "execution_count": 104,
      "outputs": []
    },
    {
      "cell_type": "code",
      "source": [
        "## Midwest Division 1\n",
        "team1 = main_df[main_df['school_name'] == west_s16_winner1]\n",
        "team2 = main_df[main_df['school_name'] == west_s16_winner2]\n",
        "\n",
        "team3 = main_df[main_df['school_name'] == south_e8_winner1]\n",
        "team4 = main_df[main_df['school_name'] == south_e8_winner2]\n",
        "\n",
        "team5 = main_df[main_df['school_name'] == east_s16_winner1]\n",
        "team6 = main_df[main_df['school_name'] == east_s16_winner2]\n",
        "\n",
        "team7 = main_df[main_df['school_name'] == midwest_s16_winner1]\n",
        "team8 = main_df[main_df['school_name'] == midwest_s16_winner2]"
      ],
      "metadata": {
        "id": "AudAFEy1jkdL"
      },
      "execution_count": 107,
      "outputs": []
    },
    {
      "cell_type": "code",
      "source": [
        "elite8_dict = {'first_round_s1': [team1, team2],\n",
        "             'first_round_s2': [team3, team4],\n",
        "             'first_round_s3': [team5, team6],\n",
        "             'first_round_s4': [team7, team8]}"
      ],
      "metadata": {
        "id": "TYgV-XrId9Km"
      },
      "execution_count": 108,
      "outputs": []
    },
    {
      "cell_type": "code",
      "source": [
        "mm_winner(elite8_dict)"
      ],
      "metadata": {
        "colab": {
          "base_uri": "https://localhost:8080/",
          "height": 165
        },
        "id": "wNH7nv8SjdXG",
        "outputId": "c774c8e8-fab6-4ee5-b96e-f629c09f2d7c"
      },
      "execution_count": 109,
      "outputs": [
        {
          "output_type": "stream",
          "name": "stdout",
          "text": [
            "Predicted winner for Elite 8: Montana St.\n",
            "Predicted winner for Elite 8: Wright St.\n",
            "Predicted winner for Elite 8: Virginia Tech\n",
            "Predicted winner for Elite 8: Colgate\n",
            "Predicted winner for Final 4: Wright St.\n",
            "Predicted winner for Final 4: Virginia Tech\n",
            "Predicted winner of the big dance: Wright St.\n"
          ]
        },
        {
          "output_type": "execute_result",
          "data": {
            "text/plain": [
              "'Wright St.'"
            ],
            "application/vnd.google.colaboratory.intrinsic+json": {
              "type": "string"
            }
          },
          "metadata": {},
          "execution_count": 109
        }
      ]
    },
    {
      "cell_type": "code",
      "source": [
        ""
      ],
      "metadata": {
        "id": "NqZETYxKjfyG"
      },
      "execution_count": null,
      "outputs": []
    }
  ]
}